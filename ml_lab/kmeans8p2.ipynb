{
 "cells": [
  {
   "cell_type": "code",
   "execution_count": 2,
   "metadata": {},
   "outputs": [
    {
     "name": "stdout",
     "output_type": "stream",
     "text": [
      "K-means accuracy = 73.02%\n",
      "K-means confusion matrix: \n",
      "[[50  0  0]\n",
      " [ 0 48  2]\n",
      " [ 0 14 36]]\n",
      "\n",
      "Gaussian Mixture accuracy = 90.39%\n",
      "Gaussian Mixture confusion matrix: \n",
      "[[ 0  0 50]\n",
      " [45  5  0]\n",
      " [ 0 50  0]]\n",
      "\n",
      "Gaussian mixture is better than K-means\n"
     ]
    }
   ],
   "source": [
    "import pandas\n",
    "from sklearn import metrics\n",
    "from sklearn.cluster import KMeans\n",
    "from sklearn.mixture import GaussianMixture\n",
    "\n",
    "\n",
    "def main():\n",
    "    iris_data_set = pandas.read_csv('iris_data.csv')\n",
    "    x_train, y_train = iris_data_set.iloc[:, :-1], iris_data_set.iloc[:, -1]\n",
    "\n",
    "    k_means = KMeans(n_clusters=3)\n",
    "    k_means.fit(x_train)\n",
    "    k_means_y_pred = k_means.predict(x_train)\n",
    "    k_means_accuracy = metrics.adjusted_rand_score(y_train, k_means_y_pred)\n",
    "    print(f'K-means accuracy = {round(k_means_accuracy * 100, 2)}%')\n",
    "    print('K-means confusion matrix: ')\n",
    "    print(metrics.confusion_matrix(y_train, k_means_y_pred))\n",
    "    print()\n",
    "\n",
    "    gaussian_mixture = GaussianMixture(n_components=3)\n",
    "    gaussian_mixture.fit(x_train)\n",
    "    gaussian_mixture_y_pred = gaussian_mixture.predict(x_train)\n",
    "    gaussian_mixture_accuracy = metrics.adjusted_rand_score(y_train, gaussian_mixture_y_pred)\n",
    "    print(f'Gaussian Mixture accuracy = {round(gaussian_mixture_accuracy * 100, 2)}%')\n",
    "    print('Gaussian Mixture confusion matrix: ')\n",
    "    print(metrics.confusion_matrix(y_train, gaussian_mixture_y_pred))\n",
    "    print()\n",
    "\n",
    "    if k_means_accuracy > gaussian_mixture_accuracy:\n",
    "        print('K-means is better than Gaussian mixture')\n",
    "    elif k_means_accuracy < gaussian_mixture_accuracy:\n",
    "        print('Gaussian mixture is better than K-means')\n",
    "    else:\n",
    "        print('Both K-means and Gaussian mixture are equally good')\n",
    "\n",
    "\n",
    "if __name__ == \"__main__\":\n",
    "    main()"
   ]
  }
 ],
 "metadata": {
  "kernelspec": {
   "display_name": "Python 3",
   "language": "python",
   "name": "python3"
  },
  "language_info": {
   "codemirror_mode": {
    "name": "ipython",
    "version": 3
   },
   "file_extension": ".py",
   "mimetype": "text/x-python",
   "name": "python",
   "nbconvert_exporter": "python",
   "pygments_lexer": "ipython3",
   "version": "3.7.3"
  }
 },
 "nbformat": 4,
 "nbformat_minor": 2
}
