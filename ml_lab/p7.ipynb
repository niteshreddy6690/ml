{
 "cells": [
  {
   "cell_type": "code",
   "execution_count": null,
   "metadata": {},
   "outputs": [],
   "source": [
    "import pandas as pd\n",
    "import sys\n",
    "data=pd.read_csv(\"heart_disease_data1.csv\")\n",
    "heart_disease=pd.DataFrame(data)\n",
    "print(heart_disease)"
   ]
  },
  {
   "cell_type": "code",
   "execution_count": null,
   "metadata": {},
   "outputs": [],
   "source": [
    "from pgmpy.models import BayesianModel\n",
    "model=BayesianModel([\n",
    "('age','Lifestyle'),\n",
    "('Gender','Lifestyle'),\n",
    "('Family','heartdisease'),\n",
    "('diet','cholestrol'),\n",
    "('Lifestyle','diet'),\n",
    "('cholestrol','heartdisease'),\n",
    "('diet','cholestrol')\n",
    "])\n",
    "\n",
    "from pgmpy.estimators import MaximumLikelihoodEstimator\n",
    "model.fit(heart_disease, estimator=MaximumLikelihoodEstimator)\n",
    "\n",
    "\n",
    "from pgmpy.inference import VariableElimination\n",
    "HeartDisease_infer = VariableElimination(model)\n",
    "\n",
    "print('For age enter SuperSeniorCitizen:0, SeniorCitizen:1, MiddleAged:2, Youth:3, Teen:4')\n",
    "print('For Gender Enter Male:0, Female:1')\n",
    "print('For Family History Enter yes:1, No:0')\n",
    "print('For diet Enter High:0, Medium:1')\n",
    "print('for lifeStyle Enter Athlete:0, Active:1, Moderate:2, Sedentary:3')\n",
    "print('for cholesterol Enter High:0, BorderLine:1, Normal:2')\n",
    "\n"
   ]
  },
  {
   "cell_type": "code",
   "execution_count": null,
   "metadata": {},
   "outputs": [],
   "source": [
    "q = HeartDisease_infer.query(variables=['heartdisease'], evidence={\n",
    "    'age':int(input('enter age')),\n",
    "    'Gender':int(input('enter Gender')),\n",
    "    'Family':int(input('enter Family history')),\n",
    "    'diet':int(input('enter diet')),\n",
    "    'Lifestyle':int(input('enter Lifestyle')),\n",
    "    'cholestrol':int(input('enter cholestrol'))\n",
    "    })\n",
    "\n",
    "print(q['heartdisease'])"
   ]
  },
  {
   "cell_type": "code",
   "execution_count": null,
   "metadata": {},
   "outputs": [],
   "source": []
  }
 ],
 "metadata": {
  "kernelspec": {
   "display_name": "Python 3",
   "language": "python",
   "name": "python3"
  },
  "language_info": {
   "codemirror_mode": {
    "name": "ipython",
    "version": 3
   },
   "file_extension": ".py",
   "mimetype": "text/x-python",
   "name": "python",
   "nbconvert_exporter": "python",
   "pygments_lexer": "ipython3",
   "version": "3.7.3"
  }
 },
 "nbformat": 4,
 "nbformat_minor": 2
}
